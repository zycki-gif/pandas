{
 "cells": [
  {
   "cell_type": "code",
   "execution_count": 66,
   "id": "8c6a41f5",
   "metadata": {},
   "outputs": [],
   "source": [
    "import numpy as np\n",
    "import pandas as pd\n",
    "import matplotlib.pyplot as plt"
   ]
  },
  {
   "cell_type": "code",
   "execution_count": 2,
   "id": "e6a5488c",
   "metadata": {},
   "outputs": [],
   "source": [
    "df=pd.read_csv('https://pycourse.s3.amazonaws.com/temperature.csv')"
   ]
  },
  {
   "cell_type": "code",
   "execution_count": 4,
   "id": "e4fc3f55",
   "metadata": {},
   "outputs": [
    {
     "data": {
      "text/html": [
       "<div>\n",
       "<style scoped>\n",
       "    .dataframe tbody tr th:only-of-type {\n",
       "        vertical-align: middle;\n",
       "    }\n",
       "\n",
       "    .dataframe tbody tr th {\n",
       "        vertical-align: top;\n",
       "    }\n",
       "\n",
       "    .dataframe thead th {\n",
       "        text-align: right;\n",
       "    }\n",
       "</style>\n",
       "<table border=\"1\" class=\"dataframe\">\n",
       "  <thead>\n",
       "    <tr style=\"text-align: right;\">\n",
       "      <th></th>\n",
       "      <th>date</th>\n",
       "      <th>temperatura</th>\n",
       "      <th>classification</th>\n",
       "    </tr>\n",
       "  </thead>\n",
       "  <tbody>\n",
       "    <tr>\n",
       "      <th>0</th>\n",
       "      <td>2020-01-01</td>\n",
       "      <td>29.1</td>\n",
       "      <td>quente</td>\n",
       "    </tr>\n",
       "    <tr>\n",
       "      <th>1</th>\n",
       "      <td>2020-02-01</td>\n",
       "      <td>31.2</td>\n",
       "      <td>muito quente</td>\n",
       "    </tr>\n",
       "    <tr>\n",
       "      <th>2</th>\n",
       "      <td>2020-03-01</td>\n",
       "      <td>28.5</td>\n",
       "      <td>quente</td>\n",
       "    </tr>\n",
       "    <tr>\n",
       "      <th>3</th>\n",
       "      <td>2020-04-01</td>\n",
       "      <td>28.0</td>\n",
       "      <td>quente</td>\n",
       "    </tr>\n",
       "    <tr>\n",
       "      <th>4</th>\n",
       "      <td>2020-05-01</td>\n",
       "      <td>24.0</td>\n",
       "      <td>confortavel</td>\n",
       "    </tr>\n",
       "  </tbody>\n",
       "</table>\n",
       "</div>"
      ],
      "text/plain": [
       "         date  temperatura classification\n",
       "0  2020-01-01         29.1         quente\n",
       "1  2020-02-01         31.2   muito quente\n",
       "2  2020-03-01         28.5         quente\n",
       "3  2020-04-01         28.0         quente\n",
       "4  2020-05-01         24.0    confortavel"
      ]
     },
     "execution_count": 4,
     "metadata": {},
     "output_type": "execute_result"
    }
   ],
   "source": [
    "df.head()"
   ]
  },
  {
   "cell_type": "code",
   "execution_count": 5,
   "id": "36f51b7f",
   "metadata": {},
   "outputs": [
    {
     "name": "stdout",
     "output_type": "stream",
     "text": [
      "[[29.1]\n",
      " [31.2]\n",
      " [28.5]\n",
      " [28. ]\n",
      " [24. ]\n",
      " [20. ]]\n",
      "[['quente']\n",
      " ['muito quente']\n",
      " ['quente']\n",
      " ['quente']\n",
      " ['confortavel']\n",
      " ['frio']]\n"
     ]
    }
   ],
   "source": [
    "#extração de x e y\n",
    "x,y=df[['temperatura']].values,df[['classification']].values\n",
    "print(x)\n",
    "print(y)"
   ]
  },
  {
   "cell_type": "code",
   "execution_count": 6,
   "id": "beb1b092",
   "metadata": {},
   "outputs": [],
   "source": [
    "#pré processamento\n",
    "from sklearn.preprocessing import LabelEncoder"
   ]
  },
  {
   "cell_type": "code",
   "execution_count": 7,
   "id": "868fae2f",
   "metadata": {},
   "outputs": [],
   "source": [
    "LabelEncoder?"
   ]
  },
  {
   "cell_type": "code",
   "execution_count": 8,
   "id": "17925932",
   "metadata": {},
   "outputs": [
    {
     "name": "stdout",
     "output_type": "stream",
     "text": [
      "[3 2 3 3 0 1]\n"
     ]
    }
   ],
   "source": [
    "#conversão de y para valores numericos\n",
    "le=LabelEncoder()\n",
    "y=le.fit_transform(y.ravel())\n",
    "print(y)"
   ]
  },
  {
   "cell_type": "code",
   "execution_count": 28,
   "id": "a1b1a8f9",
   "metadata": {},
   "outputs": [],
   "source": [
    "#modelo\n",
    "from sklearn.linear_model import LogisticRegression\n",
    "LogisticRegression?"
   ]
  },
  {
   "cell_type": "code",
   "execution_count": 34,
   "id": "a25a76a2",
   "metadata": {},
   "outputs": [
    {
     "name": "stdout",
     "output_type": "stream",
     "text": [
      "LogisticRegression()\n"
     ]
    }
   ],
   "source": [
    "#classificador\n",
    "clf=LogisticRegression()\n",
    "clf.fit(x,y)\n"
   ]
  },
  {
   "cell_type": "code",
   "execution_count": 42,
   "id": "de652983",
   "metadata": {},
   "outputs": [],
   "source": [
    "#gerando 100 valores de temperatura\n",
    "#linearmente espaçados entre 0 e 45\n",
    "#predição em novos valores\n",
    "x_test=np.linspace(start=0.,stop=45.,num=100).reshape(-1,1)\n",
    "#predição\n",
    "y_pred=clf.predict(x_test)"
   ]
  },
  {
   "cell_type": "code",
   "execution_count": 43,
   "id": "98f72d8a",
   "metadata": {},
   "outputs": [
    {
     "name": "stdout",
     "output_type": "stream",
     "text": [
      "[1 1 1 1 1 1 1 1 1 1 1 1 1 1 1 1 1 1 1 1 1 1 1 1 1 1 1 1 1 1 1 1 1 1 1 1 1\n",
      " 1 1 1 1 1 1 1 1 1 1 1 1 1 0 0 0 0 0 0 3 3 3 3 3 3 3 3 3 3 3 3 2 2 2 2 2 2\n",
      " 2 2 2 2 2 2 2 2 2 2 2 2 2 2 2 2 2 2 2 2 2 2 2 2 2 2]\n"
     ]
    }
   ],
   "source": [
    "print(y_pred)\n"
   ]
  },
  {
   "cell_type": "code",
   "execution_count": 44,
   "id": "f9ca5658",
   "metadata": {},
   "outputs": [
    {
     "name": "stdout",
     "output_type": "stream",
     "text": [
      "['frio' 'frio' 'frio' 'frio' 'frio' 'frio' 'frio' 'frio' 'frio' 'frio'\n",
      " 'frio' 'frio' 'frio' 'frio' 'frio' 'frio' 'frio' 'frio' 'frio' 'frio'\n",
      " 'frio' 'frio' 'frio' 'frio' 'frio' 'frio' 'frio' 'frio' 'frio' 'frio'\n",
      " 'frio' 'frio' 'frio' 'frio' 'frio' 'frio' 'frio' 'frio' 'frio' 'frio'\n",
      " 'frio' 'frio' 'frio' 'frio' 'frio' 'frio' 'frio' 'frio' 'frio' 'frio'\n",
      " 'confortavel' 'confortavel' 'confortavel' 'confortavel' 'confortavel'\n",
      " 'confortavel' 'quente' 'quente' 'quente' 'quente' 'quente' 'quente'\n",
      " 'quente' 'quente' 'quente' 'quente' 'quente' 'quente' 'muito quente'\n",
      " 'muito quente' 'muito quente' 'muito quente' 'muito quente'\n",
      " 'muito quente' 'muito quente' 'muito quente' 'muito quente'\n",
      " 'muito quente' 'muito quente' 'muito quente' 'muito quente'\n",
      " 'muito quente' 'muito quente' 'muito quente' 'muito quente'\n",
      " 'muito quente' 'muito quente' 'muito quente' 'muito quente'\n",
      " 'muito quente' 'muito quente' 'muito quente' 'muito quente'\n",
      " 'muito quente' 'muito quente' 'muito quente' 'muito quente'\n",
      " 'muito quente' 'muito quente' 'muito quente']\n"
     ]
    }
   ],
   "source": [
    "#conversão de y para valores originais\n",
    "y_pred=le.inverse_transform(y_pred)\n",
    "print(y_pred)"
   ]
  },
  {
   "cell_type": "code",
   "execution_count": 45,
   "id": "1798c0f2",
   "metadata": {},
   "outputs": [
    {
     "name": "stdout",
     "output_type": "stream",
     "text": [
      "[[ 0.        ]\n",
      " [ 0.45454545]\n",
      " [ 0.90909091]\n",
      " [ 1.36363636]\n",
      " [ 1.81818182]\n",
      " [ 2.27272727]\n",
      " [ 2.72727273]\n",
      " [ 3.18181818]\n",
      " [ 3.63636364]\n",
      " [ 4.09090909]\n",
      " [ 4.54545455]\n",
      " [ 5.        ]\n",
      " [ 5.45454545]\n",
      " [ 5.90909091]\n",
      " [ 6.36363636]\n",
      " [ 6.81818182]\n",
      " [ 7.27272727]\n",
      " [ 7.72727273]\n",
      " [ 8.18181818]\n",
      " [ 8.63636364]\n",
      " [ 9.09090909]\n",
      " [ 9.54545455]\n",
      " [10.        ]\n",
      " [10.45454545]\n",
      " [10.90909091]\n",
      " [11.36363636]\n",
      " [11.81818182]\n",
      " [12.27272727]\n",
      " [12.72727273]\n",
      " [13.18181818]\n",
      " [13.63636364]\n",
      " [14.09090909]\n",
      " [14.54545455]\n",
      " [15.        ]\n",
      " [15.45454545]\n",
      " [15.90909091]\n",
      " [16.36363636]\n",
      " [16.81818182]\n",
      " [17.27272727]\n",
      " [17.72727273]\n",
      " [18.18181818]\n",
      " [18.63636364]\n",
      " [19.09090909]\n",
      " [19.54545455]\n",
      " [20.        ]\n",
      " [20.45454545]\n",
      " [20.90909091]\n",
      " [21.36363636]\n",
      " [21.81818182]\n",
      " [22.27272727]\n",
      " [22.72727273]\n",
      " [23.18181818]\n",
      " [23.63636364]\n",
      " [24.09090909]\n",
      " [24.54545455]\n",
      " [25.        ]\n",
      " [25.45454545]\n",
      " [25.90909091]\n",
      " [26.36363636]\n",
      " [26.81818182]\n",
      " [27.27272727]\n",
      " [27.72727273]\n",
      " [28.18181818]\n",
      " [28.63636364]\n",
      " [29.09090909]\n",
      " [29.54545455]\n",
      " [30.        ]\n",
      " [30.45454545]\n",
      " [30.90909091]\n",
      " [31.36363636]\n",
      " [31.81818182]\n",
      " [32.27272727]\n",
      " [32.72727273]\n",
      " [33.18181818]\n",
      " [33.63636364]\n",
      " [34.09090909]\n",
      " [34.54545455]\n",
      " [35.        ]\n",
      " [35.45454545]\n",
      " [35.90909091]\n",
      " [36.36363636]\n",
      " [36.81818182]\n",
      " [37.27272727]\n",
      " [37.72727273]\n",
      " [38.18181818]\n",
      " [38.63636364]\n",
      " [39.09090909]\n",
      " [39.54545455]\n",
      " [40.        ]\n",
      " [40.45454545]\n",
      " [40.90909091]\n",
      " [41.36363636]\n",
      " [41.81818182]\n",
      " [42.27272727]\n",
      " [42.72727273]\n",
      " [43.18181818]\n",
      " [43.63636364]\n",
      " [44.09090909]\n",
      " [44.54545455]\n",
      " [45.        ]]\n"
     ]
    }
   ],
   "source": [
    "print(x_test)"
   ]
  },
  {
   "cell_type": "code",
   "execution_count": 48,
   "id": "30b57ebe",
   "metadata": {},
   "outputs": [],
   "source": [
    "#output\n",
    "output={\n",
    "    'new_temp':x_test.ravel(),\n",
    "    'new_class':y_pred.ravel()\n",
    "}\n",
    "output=pd.DataFrame(output)"
   ]
  },
  {
   "cell_type": "code",
   "execution_count": 50,
   "id": "906c102c",
   "metadata": {},
   "outputs": [
    {
     "data": {
      "text/html": [
       "<div>\n",
       "<style scoped>\n",
       "    .dataframe tbody tr th:only-of-type {\n",
       "        vertical-align: middle;\n",
       "    }\n",
       "\n",
       "    .dataframe tbody tr th {\n",
       "        vertical-align: top;\n",
       "    }\n",
       "\n",
       "    .dataframe thead th {\n",
       "        text-align: right;\n",
       "    }\n",
       "</style>\n",
       "<table border=\"1\" class=\"dataframe\">\n",
       "  <thead>\n",
       "    <tr style=\"text-align: right;\">\n",
       "      <th></th>\n",
       "      <th>new_temp</th>\n",
       "      <th>new_class</th>\n",
       "    </tr>\n",
       "  </thead>\n",
       "  <tbody>\n",
       "    <tr>\n",
       "      <th>0</th>\n",
       "      <td>0.000000</td>\n",
       "      <td>frio</td>\n",
       "    </tr>\n",
       "    <tr>\n",
       "      <th>1</th>\n",
       "      <td>0.454545</td>\n",
       "      <td>frio</td>\n",
       "    </tr>\n",
       "    <tr>\n",
       "      <th>2</th>\n",
       "      <td>0.909091</td>\n",
       "      <td>frio</td>\n",
       "    </tr>\n",
       "    <tr>\n",
       "      <th>3</th>\n",
       "      <td>1.363636</td>\n",
       "      <td>frio</td>\n",
       "    </tr>\n",
       "    <tr>\n",
       "      <th>4</th>\n",
       "      <td>1.818182</td>\n",
       "      <td>frio</td>\n",
       "    </tr>\n",
       "  </tbody>\n",
       "</table>\n",
       "</div>"
      ],
      "text/plain": [
       "   new_temp new_class\n",
       "0  0.000000      frio\n",
       "1  0.454545      frio\n",
       "2  0.909091      frio\n",
       "3  1.363636      frio\n",
       "4  1.818182      frio"
      ]
     },
     "execution_count": 50,
     "metadata": {},
     "output_type": "execute_result"
    }
   ],
   "source": [
    "output.head()"
   ]
  },
  {
   "cell_type": "code",
   "execution_count": 51,
   "id": "ac25e868",
   "metadata": {},
   "outputs": [
    {
     "data": {
      "text/plain": [
       "<bound method DataFrame.info of      new_temp     new_class\n",
       "0    0.000000          frio\n",
       "1    0.454545          frio\n",
       "2    0.909091          frio\n",
       "3    1.363636          frio\n",
       "4    1.818182          frio\n",
       "..        ...           ...\n",
       "95  43.181818  muito quente\n",
       "96  43.636364  muito quente\n",
       "97  44.090909  muito quente\n",
       "98  44.545455  muito quente\n",
       "99  45.000000  muito quente\n",
       "\n",
       "[100 rows x 2 columns]>"
      ]
     },
     "execution_count": 51,
     "metadata": {},
     "output_type": "execute_result"
    }
   ],
   "source": [
    "output.info"
   ]
  },
  {
   "cell_type": "code",
   "execution_count": 52,
   "id": "0d0a9dcd",
   "metadata": {},
   "outputs": [
    {
     "data": {
      "text/plain": [
       "<bound method NDFrame.describe of      new_temp     new_class\n",
       "0    0.000000          frio\n",
       "1    0.454545          frio\n",
       "2    0.909091          frio\n",
       "3    1.363636          frio\n",
       "4    1.818182          frio\n",
       "..        ...           ...\n",
       "95  43.181818  muito quente\n",
       "96  43.636364  muito quente\n",
       "97  44.090909  muito quente\n",
       "98  44.545455  muito quente\n",
       "99  45.000000  muito quente\n",
       "\n",
       "[100 rows x 2 columns]>"
      ]
     },
     "execution_count": 52,
     "metadata": {},
     "output_type": "execute_result"
    }
   ],
   "source": [
    "output.describe"
   ]
  },
  {
   "cell_type": "code",
   "execution_count": 59,
   "id": "9d8c3713",
   "metadata": {},
   "outputs": [
    {
     "data": {
      "image/png": "[encoded data removed]",
      "text/plain": [
       "<Figure size 720x360 with 1 Axes>"
      ]
     },
     "metadata": {
      "needs_background": "light"
     },
     "output_type": "display_data"
    }
   ],
   "source": [
    "output['new_class'].value_counts().plot.bar(figsize=(10,5),\n",
    "                                                   rot=0,\n",
    "                                                   title='# de valores novos gerados');"
   ]
  },
  {
   "cell_type": "code",
   "execution_count": 60,
   "id": "fdb97817",
   "metadata": {},
   "outputs": [
    {
     "data": {
      "image/png": "[encoded data removed]",
      "text/plain": [
       "<Figure size 720x360 with 1 Axes>"
      ]
     },
     "metadata": {
      "needs_background": "light"
     },
     "output_type": "display_data"
    }
   ],
   "source": [
    "#distribuição de outputs variados\n",
    "#conseguimos inferir e classificar novas temperaturas \n",
    "# a partir de um dataset com 6 exemplos\n",
    "output.boxplot(by='new_class',figsize=(10,5));"
   ]
  },
  {
   "cell_type": "code",
   "execution_count": 63,
   "id": "62a2f3ec",
   "metadata": {},
   "outputs": [
    {
     "name": "stdout",
     "output_type": "stream",
     "text": [
      "Insira e temperatura (Graus Celsius):  20\n",
      "a classificação de temperatura 20.0 é:  frio\n",
      "Nova Classificação?  (y/n): y\n",
      "Insira e temperatura (Graus Celsius):  24\n",
      "a classificação de temperatura 24.0 é:  confortavel\n",
      "Nova Classificação?  (y/n): y\n",
      "Insira e temperatura (Graus Celsius):  30\n",
      "a classificação de temperatura 30.0 é:  quente\n",
      "Nova Classificação?  (y/n): y\n",
      "Insira e temperatura (Graus Celsius):  45\n",
      "a classificação de temperatura 45.0 é:  muito quente\n",
      "Nova Classificação?  (y/n): n\n"
     ]
    }
   ],
   "source": [
    "#sistema automático \n",
    "def classify_temp():\n",
    "    '''classifica o import do usuario.'''\n",
    "ask = True\n",
    "while ask:\n",
    "    temp=input('Insira e temperatura (Graus Celsius):  ')\n",
    "    temp=np.array(float(temp)).reshape(-1,1)\n",
    "    class_temp=clf.predict(temp)\n",
    "    class_temp=le.inverse_transform(class_temp)\n",
    "    print(f'a classificação de temperatura {temp.ravel()[0]} é: ',class_temp[0] )\n",
    "    ask=input('Nova Classificação?  (y/n): ')=='y'\n"
   ]
  },
  {
   "cell_type": "code",
   "execution_count": 64,
   "id": "9866253b",
   "metadata": {},
   "outputs": [],
   "source": [
    "x=[-1,-0.7777778,-0.55555556,-0.33333333,-0.11111111,0.11111111,0.33333333,0.55555556,0.7777778,1]\n",
    "y=[-1.13956201,-0.57177999,-0.21697033,0.5425699,0.49406657,1.14972239,\n",
    "   1.64228553,2.1749824,2.64773614,2.95684202]"
   ]
  },
  {
   "cell_type": "code",
   "execution_count": 67,
   "id": "a825c09c",
   "metadata": {},
   "outputs": [
    {
     "data": {
      "image/png": "[encoded data removed]",
      "text/plain": [
       "<Figure size 720x360 with 1 Axes>"
      ]
     },
     "metadata": {
      "needs_background": "light"
     },
     "output_type": "display_data"
    }
   ],
   "source": [
    "#plot de dados\n",
    "plt.figure(figsize=(10,5))\n",
    "plt.plot(x,y,'o',label='dados originais')\n",
    "plt.legend()\n",
    "plt.xlabel('x')\n",
    "plt.ylabel('y')\n",
    "plt.grid()\n",
    "plt.show()"
   ]
  },
  {
   "cell_type": "code",
   "execution_count": 69,
   "id": "b6d3105c",
   "metadata": {},
   "outputs": [],
   "source": [
    "#trnasformando em numpy array\n",
    "x,y=np.array(x).reshape(-1,1),np.array(y).reshape(-1,1)"
   ]
  },
  {
   "cell_type": "code",
   "execution_count": 72,
   "id": "6ef2b5d4",
   "metadata": {},
   "outputs": [
    {
     "data": {
      "text/plain": [
       "LinearRegression()"
      ]
     },
     "execution_count": 72,
     "metadata": {},
     "output_type": "execute_result"
    }
   ],
   "source": [
    "from sklearn.linear_model import LinearRegression\n",
    "reg=LinearRegression()\n",
    "reg.fit(x,y)"
   ]
  },
  {
   "cell_type": "code",
   "execution_count": 74,
   "id": "b1a8401f",
   "metadata": {},
   "outputs": [
    {
     "name": "stdout",
     "output_type": "stream",
     "text": [
      "a estimado:  2.054149496470918\n",
      "b estimado:  0.967989262\n"
     ]
    }
   ],
   "source": [
    "#coefiecientes a,b estimados:\n",
    "#valores usando numpy diretamente\n",
    "print('a estimado: ', reg.coef_.ravel()[0])\n",
    "print('b estimado: ', reg.intercept_[0])"
   ]
  },
  {
   "cell_type": "code",
   "execution_count": 75,
   "id": "283bc42a",
   "metadata": {},
   "outputs": [],
   "source": [
    "y_pred=reg.predict(x)\n"
   ]
  },
  {
   "cell_type": "code",
   "execution_count": 76,
   "id": "8de06b19",
   "metadata": {},
   "outputs": [
    {
     "name": "stdout",
     "output_type": "stream",
     "text": [
      "0.9911602677533236\n"
     ]
    }
   ],
   "source": [
    "#SCORE DO MODELO\n",
    "score=reg.score(x,y)\n",
    "print(score)"
   ]
  },
  {
   "cell_type": "code",
   "execution_count": 79,
   "id": "ce538cab",
   "metadata": {},
   "outputs": [
    {
     "data": {
      "image/png": "[encoded data removed]",
      "text/plain": [
       "<Figure size 720x360 with 1 Axes>"
      ]
     },
     "metadata": {
      "needs_background": "light"
     },
     "output_type": "display_data"
    }
   ],
   "source": [
    "plt.figure(figsize=(10,5))\n",
    "plt.plot(x,y,'o',label='dados originais')\n",
    "plt.plot(x,y_pred,label='regressao linear (R2: {:.3f})'.format(score))\n",
    "plt.legend()\n",
    "plt.xlabel('x')\n",
    "plt.ylabel('y')\n",
    "plt.title('Regressão Linear no Scikit-Learn')\n",
    "plt.grid()\n",
    "plt.show()"
   ]
  },
  {
   "cell_type": "code",
   "execution_count": null,
   "id": "a42b8b7e",
   "metadata": {},
   "outputs": [],
   "source": []
  }
 ],
 "metadata": {
  "kernelspec": {
   "display_name": "Python 3",
   "language": "python",
   "name": "python3"
  },
  "language_info": {
   "codemirror_mode": {
    "name": "ipython",
    "version": 3
   },
   "file_extension": ".py",
   "mimetype": "text/x-python",
   "name": "python",
   "nbconvert_exporter": "python",
   "pygments_lexer": "ipython3",
   "version": "3.8.8"
  }
 },
 "nbformat": 4,
 "nbformat_minor": 5
}
